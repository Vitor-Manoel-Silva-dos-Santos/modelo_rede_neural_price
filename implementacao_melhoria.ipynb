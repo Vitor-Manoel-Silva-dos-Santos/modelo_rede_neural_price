{
 "cells": [
  {
   "cell_type": "code",
   "execution_count": 7,
   "metadata": {},
   "outputs": [],
   "source": [
    "#importes\n",
    "import yfinance as yf\n",
    "import pandas as pd\n",
    "from datetime import datetime\n",
    "from datetime import timedelta\n",
    "\n",
    "import re\n",
    "import talib\n",
    "import plotly.express as px\n",
    "import numpy as np\n",
    "from sklearn.preprocessing import MinMaxScaler\n",
    "from sklearn.metrics import mean_squared_error\n",
    "\n",
    "from keras.models import Sequential\n",
    "from keras.layers import Dense,LSTM,Dropout\n",
    "from keras.callbacks import EarlyStopping"
   ]
  },
  {
   "cell_type": "code",
   "execution_count": 5,
   "metadata": {},
   "outputs": [],
   "source": [
    "#PETR4\n",
    "#EMBR3\n",
    "#ITUB3\n",
    "#TOTS3"
   ]
  },
  {
   "cell_type": "code",
   "execution_count": 116,
   "metadata": {},
   "outputs": [],
   "source": [
    "class ExecucaoTherasAnaliseTecnica:\n",
    "    \n",
    "    def __init__(self, empresa_ = 'CSAN3', intervalo_ = '1wk', n_predicoes_ = 14 , quant_conjunto_tec_ = 14):\n",
    "        self.empresa = empresa_\n",
    "        self.intervalo = intervalo_\n",
    "        self.n_predicoes = n_predicoes_ \n",
    "        self.quant_conjunto_tec = quant_conjunto_tec_\n",
    "        self.conjunto_dados = None \n",
    "        self.indicadores = None\n",
    "        self.historico = None\n",
    "        self.df_resultado = None\n",
    "        self.dados_processados_ia = None\n",
    "        self.modelo = None\n",
    "        self.erro_medio_quadratico = None\n",
    "        \n",
    "        \n",
    "    #capturar dados\n",
    "    def buscarDadosTecnicos(self, empresa = None, intervalo = None, n_predicoes = None):\n",
    "        \n",
    "\n",
    "        if (empresa is None): empresa = self.empresa \n",
    "        if (intervalo is None): intervalo = self.intervalo\n",
    "        if (n_predicoes is None): n_predicoes = self.n_predicoes\n",
    "        \n",
    "        acao = yf.Ticker(f'{empresa}.sa')\n",
    "\n",
    "        historico_dados_tecnicos = acao.history(period = 'max', interval= intervalo)\n",
    "        historico_dados_tecnicos = historico_dados_tecnicos.drop(historico_dados_tecnicos.index[-self.n_predicoes:],axis=0)\n",
    "        \n",
    "        #historico_dados_tecnicos = historico_dados_tecnicos[historico_dados_tecnicos['Close'] <= 150]\n",
    "        historico_dados_tecnicos['Data'] = historico_dados_tecnicos.index\n",
    "        historico_dados_tecnicos['Data'] = historico_dados_tecnicos['Data'].apply(lambda x: datetime.strptime(re.findall('\\d{4}-\\d{2}-\\d{2}', str(x))[0], '%Y-%m-%d').date())\n",
    "        historico_dados_tecnicos = historico_dados_tecnicos.dropna()\n",
    "        historico_dados_tecnicos = historico_dados_tecnicos.reset_index(drop ='index')\n",
    "        self.historico = historico_dados_tecnicos\n",
    "        self.ult_data = historico_dados_tecnicos['Data'][len(historico_dados_tecnicos)-1]\n",
    "        return historico_dados_tecnicos\n",
    "\n",
    "    def criarConjunto(self, dataframe = None, quant_itens_conjunto = None):\n",
    "        \n",
    "               \n",
    "        if dataframe is None and self.historico is None: \n",
    "            dataframe = self.buscarDadosTecnicos()['Close']\n",
    "        elif dataframe is None and self.historico is not None:\n",
    "            dataframe = self.historico['Close']\n",
    "        elif dataframe is not None:\n",
    "            print('ja possui dados')\n",
    "        else:\n",
    "            return \"Erro ao criar conjunto\"\n",
    "        \n",
    "        if quant_itens_conjunto is None: quant_itens_conjunto = self.quant_conjunto_tec\n",
    "            \n",
    "        self.quant_conjunto_tec = quant_itens_conjunto\n",
    "        conjunto = list() #armazena o conjunto de close\n",
    "        y = list()\n",
    "        for i in range(self.quant_conjunto_tec, len(dataframe)+1):\n",
    "            conjunto.append(dataframe[i - self.quant_conjunto_tec: i])\n",
    "        self.conjunto_dados = conjunto\n",
    "        return conjunto\n",
    "    #processar dados\n",
    "    def calcularIndicadores(self, dados = None, quant_periodo_tec = None):\n",
    "        \n",
    "        if quant_periodo_tec is None: quant_periodo_tec = self.quant_conjunto_tec\n",
    "        \n",
    "        if dados is None and self.historico is None: \n",
    "            dados = self.buscarDadosTecnicos()['Close']\n",
    "        elif dados is None and self.historico is not None:\n",
    "            dados = self.historico['Close']\n",
    "        elif dados is not None:\n",
    "            if (isinstance(dados,list)):\n",
    "                dados = pd.Series(dados)\n",
    "        else:\n",
    "            return \"Houve alguma falha\"\n",
    "        \n",
    "        #indice força relativa\n",
    "        rsi = talib.RSI(dados, timeperiod=quant_periodo_tec-1)\n",
    "        df_rsi = pd.DataFrame(rsi.dropna(), columns=['RSI'])\n",
    "\n",
    "        #bandas de bollinger \n",
    "        upper, middle, lower = talib.BBANDS(dados, timeperiod = quant_periodo_tec)\n",
    "        df_upper = pd.DataFrame(upper.dropna(), columns=['bb_upper'])\n",
    "        df_middle = pd.DataFrame(middle.dropna(), columns=['bb_middle'])\n",
    "        df_lower = pd.DataFrame(lower.dropna(), columns=['bb_lower'])\n",
    "\n",
    "        #MACD\n",
    "        macd = (talib.EMA(dados, timeperiod=6).dropna()-talib.EMA(dados, timeperiod=quant_periodo_tec).dropna())\n",
    "        df_macd = pd.DataFrame(macd.dropna(), columns=['MACD'])\n",
    "        sinal_macd = macd.ewm(span=quant_periodo_tec, adjust=False).mean()\n",
    "        df_sinal_macd = pd.DataFrame(sinal_macd.dropna(), columns=['sinal_macd'])\n",
    "\n",
    "        #Media Movel\n",
    "        media_movel = talib.MA(dados, timeperiod=quant_periodo_tec)\n",
    "        df_media_movel = pd.DataFrame(media_movel.dropna(), columns=['media_movel'])\n",
    "        self.indicadores = pd.concat([df_rsi,df_media_movel,df_macd, df_sinal_macd], axis=1)\n",
    "        \"\"\"df_para_ia = df_para_ia.join(df_macd)\n",
    "        df_para_ia = df_para_ia.join(banda_sup_boll)\n",
    "        \n",
    "        df_para_ia = df_para_ia.join(media_movel(entrada1))\n",
    "        \n",
    "        df_para_ia = df_para_ia.join(banda_inf_boll)\n",
    "        df_para_ia = df_para_ia.join(indice_forca_relativa(entrada1))\"\"\"\n",
    "\n",
    "        #pd.concat([df_rsi,df_upper,df_media_movel, df_lower, df_macd, df_sinal_macd], axis=1)\n",
    "        return pd.concat([df_macd, df_sinal_macd, df_upper, df_media_movel, df_lower, df_rsi], axis=1)\n",
    "\n",
    "    #modelo de rede neural atual -  3\n",
    "    def modeloRedeNeural3(self, dados = None , n_predicoes = None, quant_unidades_conjunto = None, porcen_treinamento = 0.9, epoch = 20):\n",
    "        if dados is None and self.historico is None: \n",
    "            dados = self.buscarDadosTecnicos()['Close']\n",
    "        elif dados is None and self.historico is not None:\n",
    "            dados = self.historico['Close']\n",
    "        elif dados is not None:\n",
    "            print('Dados já existentes')\n",
    "        else:\n",
    "            return \"Houve alguma falha\" \n",
    "        if n_predicoes is None: n_predicoes = self.n_predicoes\n",
    "        \n",
    "        if quant_unidades_conjunto is None: quant_unidades_conjunto = self.quant_conjunto_tec   \n",
    "        if self.conjunto_dados is None:\n",
    "            conjunto = self.criarConjunto(dataframe=dados)\n",
    "        else:\n",
    "            conjunto = self.conjunto_dados\n",
    "        #dataframe dados conjuntos\n",
    "        df_x = pd.DataFrame(np.array(conjunto))\n",
    "        #dataframe dados y\n",
    "        #df_y = pd.DataFrame(df_x[len(conjunto[0])-1].to_list(),columns=['saida'])\n",
    "        if self.indicadores is None: \n",
    "            df_indicadores = self.calcularIndicadores(dados = dados) \n",
    "        else: \n",
    "            df_indicadores = self.indicadores\n",
    "        \n",
    "        df_indicadores['n_linha'] = df_indicadores.index\n",
    "        \n",
    "        df_indicadores = df_indicadores.reset_index(drop = 'index')\n",
    "        \n",
    "        df_para_ia = pd.concat([df_x, df_indicadores.drop('n_linha', axis='columns')], axis = 1)\n",
    "        #df_para_ia = df_indicadores.drop('n_linha', axis='columns')\n",
    "        escalador = MinMaxScaler(feature_range=(0,1))\n",
    "        escalador_saida = MinMaxScaler(feature_range=(0,1))\n",
    "        #dados_entrada_ia = df_para_ia.to_numpy()\n",
    "        quant_dados_treinamento = round(len(df_para_ia) * porcen_treinamento)\n",
    "        dados_treinamento_x = escalador.fit_transform(np.array(df_para_ia[:quant_dados_treinamento]))\n",
    "\n",
    "        #dados_treinamento_x = dados_entrada_ia_escalados[:quant_dados_treinamento]\n",
    "        \n",
    "        #para_pred = df_y.to_numpy()\n",
    "\n",
    "        #para_pred_escalado = escalador.transform(para_pred)\n",
    "        df_y = pd.DataFrame(df_x[len(conjunto[0])-1].to_list(),columns=['saida'])\n",
    "\n",
    "        dados_treinamento_y = escalador_saida.fit_transform(np.array(df_y[:quant_dados_treinamento]))\n",
    "        \n",
    "        #dados_treinamento_y = df_y[:quant_dados_treinamento]\n",
    "\n",
    "        dados_treinamento_x = dados_treinamento_x.reshape(dados_treinamento_x.shape[0],dados_treinamento_x.shape[1],1)\n",
    "        quant_colun_treino = dados_treinamento_x.shape[1]\n",
    "        \n",
    "        dados_teste_x = escalador.transform(np.array(df_para_ia[quant_dados_treinamento:]))\n",
    "\n",
    "        dados_teste_x = dados_teste_x.reshape(dados_teste_x.shape[0],dados_teste_x.shape[1],1)\n",
    "        modelo = Sequential()\n",
    "\n",
    "        modelo.add(LSTM(quant_colun_treino*3, return_sequences=True, input_shape = (dados_treinamento_x.shape[1], 1)))\n",
    "        #modelo.add(Dropout(0.2))\n",
    "        modelo.add(LSTM(quant_colun_treino*6, return_sequences=False))\n",
    "        #modelo.add(Dropout(0.2))\n",
    "        modelo.add(Dense(quant_colun_treino*3))\n",
    "        #modelo.add(Dropout(0.2))\n",
    "        modelo.add(Dense(quant_colun_treino*2))\n",
    "        #modelo.add(Dropout(0.2))\n",
    "        modelo.add(Dense(round(quant_colun_treino)))\n",
    "        #modelo.add(Dropout(0.2))\n",
    "        modelo.add(Dense(1))\n",
    "\n",
    "        modelo.compile(optimizer=\"adam\", loss=\"mean_squared_error\")\n",
    "\n",
    "        early_stop = EarlyStopping(monitor='loss', patience=10, verbose=1, mode='min')\n",
    "\n",
    "        registro = modelo.fit(dados_treinamento_x, dados_treinamento_y, batch_size=1,epochs=epoch, callbacks=[early_stop])\n",
    "\n",
    "\n",
    "        \n",
    "        predicoes = modelo.predict(dados_teste_x)\n",
    "\n",
    "        predicoes = escalador_saida.inverse_transform(predicoes)\n",
    "\n",
    "\n",
    "        teste_y = df_y[quant_dados_treinamento: ]\n",
    "        teste_y = teste_y.to_numpy()\n",
    "\n",
    "        remo_erro_quadra = mean_squared_error(teste_y, predicoes)\n",
    "        print(f'\\ntemos um erro quadratico medio com os dados de treino de: {remo_erro_quadra}\\n')\n",
    "        #treinamento = dados.iloc[:quant_dados_treinamento,:]\n",
    "    \n",
    "        df_teste = pd.DataFrame({\"Close\":dados.iloc[quant_dados_treinamento + (quant_unidades_conjunto-1) : ],\"predicoes\":predicoes.reshape(len(predicoes))})\n",
    "        para_14_predicoes = dados.to_list()\n",
    "\n",
    "        previsoes_futuras = []\n",
    "\n",
    "        for _ in range(n_predicoes):\n",
    "            # Obtenha o último conjunto de dados\n",
    "            conjunto = self.criarConjunto(para_14_predicoes)\n",
    "\n",
    "            # Transforme o conjunto de dados em um array numpy\n",
    "            x = np.array(conjunto, dtype=object)\n",
    "\n",
    "            # Crie o DataFrame\n",
    "            df_x = pd.DataFrame(x)\n",
    "\n",
    "            # Calcule os indicadores\n",
    "            df_indicadores = self.calcularIndicadores(para_14_predicoes)\n",
    "            df_indicadores['n_linha'] = df_indicadores.index\n",
    "            df_indicadores = df_indicadores.reset_index(drop='index')\n",
    "            df_para_ia = pd.concat([df_x, df_indicadores.drop('n_linha', axis='columns')], axis=1)\n",
    "            #df_para_ia = df_indicadores.drop('n_linha', axis='columns')\n",
    "            # Obtenha a última semana\n",
    "            ultima_semana = df_para_ia.tail(1)\n",
    "            ultima_semana_escalada = escalador.transform(np.array(ultima_semana))\n",
    "            teste_x = ultima_semana_escalada\n",
    "            teste_x = teste_x.reshape(teste_x.shape[0], teste_x.shape[1], 1)\n",
    "\n",
    "            # Faça previsões para n_predicoes pontos de dados\n",
    "            previsoes = modelo.predict(teste_x)\n",
    "            previsoes = escalador_saida.inverse_transform(previsoes)\n",
    "\n",
    "            # Adicione as previsões à lista de previsões futuras\n",
    "            previsoes_futuras.extend(previsoes)\n",
    "            #print(previsoes)\n",
    "            # Atualize o conjunto de previsões para a próxima iteração\n",
    "            para_14_predicoes.append(previsoes[0][0])\n",
    "\n",
    "        \"\"\"for a in range(n_predicoes):\n",
    "            \n",
    "            conjunto = criarConjunto(para_14_predicoes)\n",
    "            \n",
    "            x = np.array(conjunto)\n",
    "            #criamos o dataframe\n",
    "            df_x = pd.DataFrame(x)\n",
    "            df_indicadores = calcularIndicadores(para_14_predicoes)\n",
    "            df_indicadores['n_linha'] = df_indicadores.index\n",
    "            df_indicadores = df_indicadores.reset_index(drop = 'index')\n",
    "            df_para_ia = pd.concat([df_x, df_indicadores.drop('n_linha', axis = 'columns')], axis=1)\n",
    "\n",
    "            ultima_semana = df_para_ia.tail(1)#.values.reshape(-1,1)\n",
    "            \n",
    "            \n",
    "            ultima_semana_escalado = escalador.transform(np.array(ultima_semana))\n",
    "\n",
    "            teste_x = ultima_semana_escalado\n",
    "        \n",
    "            teste_x = teste_x.reshape(teste_x.shape[0], teste_x.shape[1],1)\n",
    "            \n",
    "            previsao_amanha = modelo.predict(teste_x)\n",
    "            previsao_amanha = escalador_saida.inverse_transform(previsao_amanha)\n",
    "            \n",
    "            para_14_predicoes.append(float(previsao_amanha[0]))\"\"\"\n",
    "\n",
    "        df_resultado = pd.DataFrame(para_14_predicoes[len(self.historico):],columns=['resultado'])\n",
    "        data = self.ult_data\n",
    "        data += timedelta(days=7)\n",
    "        lista_datas = []\n",
    "        for a in range(n_predicoes):\n",
    "            lista_datas.append(data) \n",
    "            data += timedelta(days=7)\n",
    "            \n",
    "\n",
    "        datas = pd.DataFrame(lista_datas, columns=['data'])\n",
    "        df_resultado = df_resultado.join(datas)\n",
    "        \n",
    "        self.df_resultado = df_resultado\n",
    "        self.dados_processados_ia = df_para_ia\n",
    "        self.modelo = modelo\n",
    "        self.erro_medio_quadratico = remo_erro_quadra\n",
    "        \n",
    "        return df_resultado"
   ]
  },
  {
   "cell_type": "code",
   "execution_count": 117,
   "metadata": {},
   "outputs": [],
   "source": [
    "primeiro = ExecucaoTherasAnaliseTecnica(empresa_= 'petr4')"
   ]
  },
  {
   "cell_type": "code",
   "execution_count": 118,
   "metadata": {},
   "outputs": [],
   "source": [
    "primeiro.dados_processados_ia"
   ]
  },
  {
   "cell_type": "code",
   "execution_count": 119,
   "metadata": {},
   "outputs": [
    {
     "name": "stdout",
     "output_type": "stream",
     "text": [
      "ja possui dados\n",
      "Epoch 1/200\n",
      "1092/1092 [==============================] - 29s 13ms/step - loss: 0.0039\n",
      "Epoch 2/200\n",
      "1092/1092 [==============================] - 15s 14ms/step - loss: 0.0024\n",
      "Epoch 3/200\n",
      "1092/1092 [==============================] - 16s 15ms/step - loss: 0.0026\n",
      "Epoch 4/200\n",
      "1092/1092 [==============================] - 15s 14ms/step - loss: 0.0018\n",
      "Epoch 5/200\n",
      "1092/1092 [==============================] - 15s 13ms/step - loss: 0.0013\n",
      "Epoch 6/200\n",
      "1092/1092 [==============================] - 16s 15ms/step - loss: 0.0010\n",
      "Epoch 7/200\n",
      "1092/1092 [==============================] - 16s 14ms/step - loss: 0.0010\n",
      "Epoch 8/200\n",
      "1092/1092 [==============================] - 15s 14ms/step - loss: 8.4575e-04\n",
      "Epoch 9/200\n",
      "1092/1092 [==============================] - 14s 13ms/step - loss: 9.4027e-04\n",
      "Epoch 10/200\n",
      "1092/1092 [==============================] - 15s 14ms/step - loss: 9.3750e-04\n",
      "Epoch 11/200\n",
      "1092/1092 [==============================] - 15s 14ms/step - loss: 9.6943e-04\n",
      "Epoch 12/200\n",
      "1092/1092 [==============================] - 15s 14ms/step - loss: 7.8520e-04\n",
      "Epoch 13/200\n",
      "1092/1092 [==============================] - 14s 13ms/step - loss: 7.5005e-04\n",
      "Epoch 14/200\n",
      "1092/1092 [==============================] - 17s 15ms/step - loss: 7.4256e-04\n",
      "Epoch 15/200\n",
      "1092/1092 [==============================] - 18s 16ms/step - loss: 6.5829e-04\n",
      "Epoch 16/200\n",
      "1092/1092 [==============================] - 17s 16ms/step - loss: 4.0217e-04\n",
      "Epoch 17/200\n",
      "1092/1092 [==============================] - 15s 14ms/step - loss: 4.2565e-04\n",
      "Epoch 18/200\n",
      "1092/1092 [==============================] - 16s 15ms/step - loss: 6.3007e-04\n",
      "Epoch 19/200\n",
      "1092/1092 [==============================] - 16s 15ms/step - loss: 2.3709e-04\n",
      "Epoch 20/200\n",
      "1092/1092 [==============================] - 16s 14ms/step - loss: 2.2036e-04\n",
      "Epoch 21/200\n",
      "1092/1092 [==============================] - 16s 15ms/step - loss: 2.8891e-04\n",
      "Epoch 22/200\n",
      "1092/1092 [==============================] - 15s 14ms/step - loss: 3.1827e-04\n",
      "Epoch 23/200\n",
      "1092/1092 [==============================] - 15s 14ms/step - loss: 2.8348e-04\n",
      "Epoch 24/200\n",
      "1092/1092 [==============================] - 15s 13ms/step - loss: 4.4409e-04\n",
      "Epoch 25/200\n",
      "1092/1092 [==============================] - 17s 15ms/step - loss: 3.4005e-04\n",
      "Epoch 26/200\n",
      "1092/1092 [==============================] - 15s 14ms/step - loss: 2.2719e-04\n",
      "Epoch 27/200\n",
      "1092/1092 [==============================] - 15s 13ms/step - loss: 1.7762e-04\n",
      "Epoch 28/200\n",
      "1092/1092 [==============================] - 17s 16ms/step - loss: 2.2988e-04\n",
      "Epoch 29/200\n",
      "1092/1092 [==============================] - 15s 14ms/step - loss: 2.4604e-04\n",
      "Epoch 30/200\n",
      "1092/1092 [==============================] - 18s 16ms/step - loss: 2.4122e-04\n",
      "Epoch 31/200\n",
      "1092/1092 [==============================] - 16s 15ms/step - loss: 3.3497e-04\n",
      "Epoch 32/200\n",
      "1092/1092 [==============================] - 15s 14ms/step - loss: 2.2790e-04\n",
      "Epoch 33/200\n",
      "1092/1092 [==============================] - 16s 15ms/step - loss: 2.3575e-04\n",
      "Epoch 34/200\n",
      "1092/1092 [==============================] - 15s 14ms/step - loss: 2.3059e-04\n",
      "Epoch 35/200\n",
      "1092/1092 [==============================] - 16s 15ms/step - loss: 2.3393e-04\n",
      "Epoch 36/200\n",
      "1092/1092 [==============================] - 18s 16ms/step - loss: 2.2261e-04\n",
      "Epoch 37/200\n",
      "1092/1092 [==============================] - 17s 15ms/step - loss: 2.0255e-04\n",
      "Epoch 37: early stopping\n",
      "4/4 [==============================] - 2s 15ms/step\n",
      "\n",
      "temos um erro quadratico medio com os dados de treino de: 4.9557404785399\n",
      "\n",
      "ja possui dados\n",
      "1/1 [==============================] - 0s 49ms/step\n",
      "ja possui dados\n",
      "1/1 [==============================] - 0s 58ms/step\n",
      "ja possui dados\n",
      "1/1 [==============================] - 0s 24ms/step\n",
      "ja possui dados\n",
      "1/1 [==============================] - 0s 56ms/step\n",
      "ja possui dados\n",
      "1/1 [==============================] - 0s 55ms/step\n",
      "ja possui dados\n",
      "1/1 [==============================] - 0s 63ms/step\n",
      "ja possui dados\n",
      "1/1 [==============================] - 0s 55ms/step\n",
      "ja possui dados\n",
      "1/1 [==============================] - 0s 41ms/step\n",
      "ja possui dados\n",
      "1/1 [==============================] - 0s 27ms/step\n",
      "ja possui dados\n",
      "1/1 [==============================] - 0s 63ms/step\n",
      "ja possui dados\n",
      "1/1 [==============================] - 0s 63ms/step\n",
      "ja possui dados\n",
      "1/1 [==============================] - 0s 56ms/step\n",
      "ja possui dados\n",
      "1/1 [==============================] - 0s 56ms/step\n",
      "ja possui dados\n",
      "1/1 [==============================] - 0s 62ms/step\n"
     ]
    },
    {
     "data": {
      "text/html": [
       "<div>\n",
       "<style scoped>\n",
       "    .dataframe tbody tr th:only-of-type {\n",
       "        vertical-align: middle;\n",
       "    }\n",
       "\n",
       "    .dataframe tbody tr th {\n",
       "        vertical-align: top;\n",
       "    }\n",
       "\n",
       "    .dataframe thead th {\n",
       "        text-align: right;\n",
       "    }\n",
       "</style>\n",
       "<table border=\"1\" class=\"dataframe\">\n",
       "  <thead>\n",
       "    <tr style=\"text-align: right;\">\n",
       "      <th></th>\n",
       "      <th>resultado</th>\n",
       "      <th>data</th>\n",
       "    </tr>\n",
       "  </thead>\n",
       "  <tbody>\n",
       "    <tr>\n",
       "      <th>0</th>\n",
       "      <td>21.103022</td>\n",
       "      <td>2023-07-03</td>\n",
       "    </tr>\n",
       "    <tr>\n",
       "      <th>1</th>\n",
       "      <td>18.948915</td>\n",
       "      <td>2023-07-10</td>\n",
       "    </tr>\n",
       "    <tr>\n",
       "      <th>2</th>\n",
       "      <td>17.903610</td>\n",
       "      <td>2023-07-17</td>\n",
       "    </tr>\n",
       "    <tr>\n",
       "      <th>3</th>\n",
       "      <td>17.647781</td>\n",
       "      <td>2023-07-24</td>\n",
       "    </tr>\n",
       "    <tr>\n",
       "      <th>4</th>\n",
       "      <td>17.562466</td>\n",
       "      <td>2023-07-31</td>\n",
       "    </tr>\n",
       "    <tr>\n",
       "      <th>5</th>\n",
       "      <td>17.406408</td>\n",
       "      <td>2023-08-07</td>\n",
       "    </tr>\n",
       "    <tr>\n",
       "      <th>6</th>\n",
       "      <td>16.725988</td>\n",
       "      <td>2023-08-14</td>\n",
       "    </tr>\n",
       "    <tr>\n",
       "      <th>7</th>\n",
       "      <td>15.791558</td>\n",
       "      <td>2023-08-21</td>\n",
       "    </tr>\n",
       "    <tr>\n",
       "      <th>8</th>\n",
       "      <td>14.902817</td>\n",
       "      <td>2023-08-28</td>\n",
       "    </tr>\n",
       "    <tr>\n",
       "      <th>9</th>\n",
       "      <td>13.907048</td>\n",
       "      <td>2023-09-04</td>\n",
       "    </tr>\n",
       "    <tr>\n",
       "      <th>10</th>\n",
       "      <td>12.789461</td>\n",
       "      <td>2023-09-11</td>\n",
       "    </tr>\n",
       "    <tr>\n",
       "      <th>11</th>\n",
       "      <td>11.452758</td>\n",
       "      <td>2023-09-18</td>\n",
       "    </tr>\n",
       "    <tr>\n",
       "      <th>12</th>\n",
       "      <td>9.851450</td>\n",
       "      <td>2023-09-25</td>\n",
       "    </tr>\n",
       "    <tr>\n",
       "      <th>13</th>\n",
       "      <td>8.115998</td>\n",
       "      <td>2023-10-02</td>\n",
       "    </tr>\n",
       "  </tbody>\n",
       "</table>\n",
       "</div>"
      ],
      "text/plain": [
       "    resultado        data\n",
       "0   21.103022  2023-07-03\n",
       "1   18.948915  2023-07-10\n",
       "2   17.903610  2023-07-17\n",
       "3   17.647781  2023-07-24\n",
       "4   17.562466  2023-07-31\n",
       "5   17.406408  2023-08-07\n",
       "6   16.725988  2023-08-14\n",
       "7   15.791558  2023-08-21\n",
       "8   14.902817  2023-08-28\n",
       "9   13.907048  2023-09-04\n",
       "10  12.789461  2023-09-11\n",
       "11  11.452758  2023-09-18\n",
       "12   9.851450  2023-09-25\n",
       "13   8.115998  2023-10-02"
      ]
     },
     "execution_count": 119,
     "metadata": {},
     "output_type": "execute_result"
    }
   ],
   "source": [
    "primeiro.modeloRedeNeural3(epoch=200)"
   ]
  },
  {
   "cell_type": "code",
   "execution_count": 120,
   "metadata": {},
   "outputs": [],
   "source": [
    "def criarGrafico(resultado_):\n",
    "    acao = yf.Ticker(f'{primeiro.empresa}.sa')\n",
    "    resultado = resultado_\n",
    "    historico = acao.history(period = 'max', interval= '1wk')\n",
    "    diferenca = historico['Close'][-14] - resultado['resultado'][0]\n",
    "    print(diferenca)\n",
    "    if(diferenca < 0):\n",
    "        df_ajustado = pd.DataFrame(resultado['resultado'] - diferenca)\n",
    "    else:\n",
    "        df_ajustado = pd.DataFrame(resultado['resultado'] + diferenca)\n",
    "\n",
    "    figura_ano = px.scatter(title='vendo grafico')\n",
    "    figura_ano.add_scatter(x=resultado['data'], y=df_ajustado['resultado'], name = 'predicao')\n",
    "    figura_ano.add_scatter(x=resultado['data'], y=historico['Close'][-14:], name = 'real')\n",
    "\n",
    "    return figura_ano.show()"
   ]
  },
  {
   "cell_type": "code",
   "execution_count": 121,
   "metadata": {},
   "outputs": [
    {
     "name": "stdout",
     "output_type": "stream",
     "text": [
      "7.31376838684082\n"
     ]
    },
    {
     "data": {
      "application/vnd.plotly.v1+json": {
       "config": {
        "plotlyServerURL": "https://plot.ly"
       },
       "data": [
        {
         "hovertemplate": "<extra></extra>",
         "legendgroup": "",
         "marker": {
          "color": "#636efa",
          "symbol": "circle"
         },
         "mode": "markers",
         "name": "",
         "orientation": "v",
         "showlegend": false,
         "type": "scatter",
         "xaxis": "x",
         "yaxis": "y"
        },
        {
         "name": "predicao",
         "type": "scatter",
         "x": [
          "2023-07-03",
          "2023-07-10",
          "2023-07-17",
          "2023-07-24",
          "2023-07-31",
          "2023-08-07",
          "2023-08-14",
          "2023-08-21",
          "2023-08-28",
          "2023-09-04",
          "2023-09-11",
          "2023-09-18",
          "2023-09-25",
          "2023-10-02"
         ],
         "y": [
          28.416790008544922,
          26.262683868408203,
          25.217378616333008,
          24.961549758911133,
          24.87623405456543,
          24.720176696777344,
          24.039756774902344,
          23.105327606201172,
          22.216585159301758,
          21.22081756591797,
          20.103229522705078,
          18.766525268554688,
          17.165218353271484,
          15.429766654968262
         ]
        },
        {
         "name": "real",
         "type": "scatter",
         "x": [
          "2023-07-03",
          "2023-07-10",
          "2023-07-17",
          "2023-07-24",
          "2023-07-31",
          "2023-08-07",
          "2023-08-14",
          "2023-08-21",
          "2023-08-28",
          "2023-09-04",
          "2023-09-11",
          "2023-09-18",
          "2023-09-25",
          "2023-10-02"
         ],
         "y": [
          28.416790008544922,
          27.983312606811523,
          28.590181350708008,
          28.66724395751953,
          28.8984317779541,
          29.437868118286133,
          30.362619400024414,
          30.79609489440918,
          32.630001068115234,
          33.400001525878906,
          33.88999938964844,
          34.029998779296875,
          34.63999938964844,
          32.619998931884766
         ]
        }
       ],
       "layout": {
        "legend": {
         "tracegroupgap": 0
        },
        "template": {
         "data": {
          "bar": [
           {
            "error_x": {
             "color": "#2a3f5f"
            },
            "error_y": {
             "color": "#2a3f5f"
            },
            "marker": {
             "line": {
              "color": "#E5ECF6",
              "width": 0.5
             },
             "pattern": {
              "fillmode": "overlay",
              "size": 10,
              "solidity": 0.2
             }
            },
            "type": "bar"
           }
          ],
          "barpolar": [
           {
            "marker": {
             "line": {
              "color": "#E5ECF6",
              "width": 0.5
             },
             "pattern": {
              "fillmode": "overlay",
              "size": 10,
              "solidity": 0.2
             }
            },
            "type": "barpolar"
           }
          ],
          "carpet": [
           {
            "aaxis": {
             "endlinecolor": "#2a3f5f",
             "gridcolor": "white",
             "linecolor": "white",
             "minorgridcolor": "white",
             "startlinecolor": "#2a3f5f"
            },
            "baxis": {
             "endlinecolor": "#2a3f5f",
             "gridcolor": "white",
             "linecolor": "white",
             "minorgridcolor": "white",
             "startlinecolor": "#2a3f5f"
            },
            "type": "carpet"
           }
          ],
          "choropleth": [
           {
            "colorbar": {
             "outlinewidth": 0,
             "ticks": ""
            },
            "type": "choropleth"
           }
          ],
          "contour": [
           {
            "colorbar": {
             "outlinewidth": 0,
             "ticks": ""
            },
            "colorscale": [
             [
              0,
              "#0d0887"
             ],
             [
              0.1111111111111111,
              "#46039f"
             ],
             [
              0.2222222222222222,
              "#7201a8"
             ],
             [
              0.3333333333333333,
              "#9c179e"
             ],
             [
              0.4444444444444444,
              "#bd3786"
             ],
             [
              0.5555555555555556,
              "#d8576b"
             ],
             [
              0.6666666666666666,
              "#ed7953"
             ],
             [
              0.7777777777777778,
              "#fb9f3a"
             ],
             [
              0.8888888888888888,
              "#fdca26"
             ],
             [
              1,
              "#f0f921"
             ]
            ],
            "type": "contour"
           }
          ],
          "contourcarpet": [
           {
            "colorbar": {
             "outlinewidth": 0,
             "ticks": ""
            },
            "type": "contourcarpet"
           }
          ],
          "heatmap": [
           {
            "colorbar": {
             "outlinewidth": 0,
             "ticks": ""
            },
            "colorscale": [
             [
              0,
              "#0d0887"
             ],
             [
              0.1111111111111111,
              "#46039f"
             ],
             [
              0.2222222222222222,
              "#7201a8"
             ],
             [
              0.3333333333333333,
              "#9c179e"
             ],
             [
              0.4444444444444444,
              "#bd3786"
             ],
             [
              0.5555555555555556,
              "#d8576b"
             ],
             [
              0.6666666666666666,
              "#ed7953"
             ],
             [
              0.7777777777777778,
              "#fb9f3a"
             ],
             [
              0.8888888888888888,
              "#fdca26"
             ],
             [
              1,
              "#f0f921"
             ]
            ],
            "type": "heatmap"
           }
          ],
          "heatmapgl": [
           {
            "colorbar": {
             "outlinewidth": 0,
             "ticks": ""
            },
            "colorscale": [
             [
              0,
              "#0d0887"
             ],
             [
              0.1111111111111111,
              "#46039f"
             ],
             [
              0.2222222222222222,
              "#7201a8"
             ],
             [
              0.3333333333333333,
              "#9c179e"
             ],
             [
              0.4444444444444444,
              "#bd3786"
             ],
             [
              0.5555555555555556,
              "#d8576b"
             ],
             [
              0.6666666666666666,
              "#ed7953"
             ],
             [
              0.7777777777777778,
              "#fb9f3a"
             ],
             [
              0.8888888888888888,
              "#fdca26"
             ],
             [
              1,
              "#f0f921"
             ]
            ],
            "type": "heatmapgl"
           }
          ],
          "histogram": [
           {
            "marker": {
             "pattern": {
              "fillmode": "overlay",
              "size": 10,
              "solidity": 0.2
             }
            },
            "type": "histogram"
           }
          ],
          "histogram2d": [
           {
            "colorbar": {
             "outlinewidth": 0,
             "ticks": ""
            },
            "colorscale": [
             [
              0,
              "#0d0887"
             ],
             [
              0.1111111111111111,
              "#46039f"
             ],
             [
              0.2222222222222222,
              "#7201a8"
             ],
             [
              0.3333333333333333,
              "#9c179e"
             ],
             [
              0.4444444444444444,
              "#bd3786"
             ],
             [
              0.5555555555555556,
              "#d8576b"
             ],
             [
              0.6666666666666666,
              "#ed7953"
             ],
             [
              0.7777777777777778,
              "#fb9f3a"
             ],
             [
              0.8888888888888888,
              "#fdca26"
             ],
             [
              1,
              "#f0f921"
             ]
            ],
            "type": "histogram2d"
           }
          ],
          "histogram2dcontour": [
           {
            "colorbar": {
             "outlinewidth": 0,
             "ticks": ""
            },
            "colorscale": [
             [
              0,
              "#0d0887"
             ],
             [
              0.1111111111111111,
              "#46039f"
             ],
             [
              0.2222222222222222,
              "#7201a8"
             ],
             [
              0.3333333333333333,
              "#9c179e"
             ],
             [
              0.4444444444444444,
              "#bd3786"
             ],
             [
              0.5555555555555556,
              "#d8576b"
             ],
             [
              0.6666666666666666,
              "#ed7953"
             ],
             [
              0.7777777777777778,
              "#fb9f3a"
             ],
             [
              0.8888888888888888,
              "#fdca26"
             ],
             [
              1,
              "#f0f921"
             ]
            ],
            "type": "histogram2dcontour"
           }
          ],
          "mesh3d": [
           {
            "colorbar": {
             "outlinewidth": 0,
             "ticks": ""
            },
            "type": "mesh3d"
           }
          ],
          "parcoords": [
           {
            "line": {
             "colorbar": {
              "outlinewidth": 0,
              "ticks": ""
             }
            },
            "type": "parcoords"
           }
          ],
          "pie": [
           {
            "automargin": true,
            "type": "pie"
           }
          ],
          "scatter": [
           {
            "fillpattern": {
             "fillmode": "overlay",
             "size": 10,
             "solidity": 0.2
            },
            "type": "scatter"
           }
          ],
          "scatter3d": [
           {
            "line": {
             "colorbar": {
              "outlinewidth": 0,
              "ticks": ""
             }
            },
            "marker": {
             "colorbar": {
              "outlinewidth": 0,
              "ticks": ""
             }
            },
            "type": "scatter3d"
           }
          ],
          "scattercarpet": [
           {
            "marker": {
             "colorbar": {
              "outlinewidth": 0,
              "ticks": ""
             }
            },
            "type": "scattercarpet"
           }
          ],
          "scattergeo": [
           {
            "marker": {
             "colorbar": {
              "outlinewidth": 0,
              "ticks": ""
             }
            },
            "type": "scattergeo"
           }
          ],
          "scattergl": [
           {
            "marker": {
             "colorbar": {
              "outlinewidth": 0,
              "ticks": ""
             }
            },
            "type": "scattergl"
           }
          ],
          "scattermapbox": [
           {
            "marker": {
             "colorbar": {
              "outlinewidth": 0,
              "ticks": ""
             }
            },
            "type": "scattermapbox"
           }
          ],
          "scatterpolar": [
           {
            "marker": {
             "colorbar": {
              "outlinewidth": 0,
              "ticks": ""
             }
            },
            "type": "scatterpolar"
           }
          ],
          "scatterpolargl": [
           {
            "marker": {
             "colorbar": {
              "outlinewidth": 0,
              "ticks": ""
             }
            },
            "type": "scatterpolargl"
           }
          ],
          "scatterternary": [
           {
            "marker": {
             "colorbar": {
              "outlinewidth": 0,
              "ticks": ""
             }
            },
            "type": "scatterternary"
           }
          ],
          "surface": [
           {
            "colorbar": {
             "outlinewidth": 0,
             "ticks": ""
            },
            "colorscale": [
             [
              0,
              "#0d0887"
             ],
             [
              0.1111111111111111,
              "#46039f"
             ],
             [
              0.2222222222222222,
              "#7201a8"
             ],
             [
              0.3333333333333333,
              "#9c179e"
             ],
             [
              0.4444444444444444,
              "#bd3786"
             ],
             [
              0.5555555555555556,
              "#d8576b"
             ],
             [
              0.6666666666666666,
              "#ed7953"
             ],
             [
              0.7777777777777778,
              "#fb9f3a"
             ],
             [
              0.8888888888888888,
              "#fdca26"
             ],
             [
              1,
              "#f0f921"
             ]
            ],
            "type": "surface"
           }
          ],
          "table": [
           {
            "cells": {
             "fill": {
              "color": "#EBF0F8"
             },
             "line": {
              "color": "white"
             }
            },
            "header": {
             "fill": {
              "color": "#C8D4E3"
             },
             "line": {
              "color": "white"
             }
            },
            "type": "table"
           }
          ]
         },
         "layout": {
          "annotationdefaults": {
           "arrowcolor": "#2a3f5f",
           "arrowhead": 0,
           "arrowwidth": 1
          },
          "autotypenumbers": "strict",
          "coloraxis": {
           "colorbar": {
            "outlinewidth": 0,
            "ticks": ""
           }
          },
          "colorscale": {
           "diverging": [
            [
             0,
             "#8e0152"
            ],
            [
             0.1,
             "#c51b7d"
            ],
            [
             0.2,
             "#de77ae"
            ],
            [
             0.3,
             "#f1b6da"
            ],
            [
             0.4,
             "#fde0ef"
            ],
            [
             0.5,
             "#f7f7f7"
            ],
            [
             0.6,
             "#e6f5d0"
            ],
            [
             0.7,
             "#b8e186"
            ],
            [
             0.8,
             "#7fbc41"
            ],
            [
             0.9,
             "#4d9221"
            ],
            [
             1,
             "#276419"
            ]
           ],
           "sequential": [
            [
             0,
             "#0d0887"
            ],
            [
             0.1111111111111111,
             "#46039f"
            ],
            [
             0.2222222222222222,
             "#7201a8"
            ],
            [
             0.3333333333333333,
             "#9c179e"
            ],
            [
             0.4444444444444444,
             "#bd3786"
            ],
            [
             0.5555555555555556,
             "#d8576b"
            ],
            [
             0.6666666666666666,
             "#ed7953"
            ],
            [
             0.7777777777777778,
             "#fb9f3a"
            ],
            [
             0.8888888888888888,
             "#fdca26"
            ],
            [
             1,
             "#f0f921"
            ]
           ],
           "sequentialminus": [
            [
             0,
             "#0d0887"
            ],
            [
             0.1111111111111111,
             "#46039f"
            ],
            [
             0.2222222222222222,
             "#7201a8"
            ],
            [
             0.3333333333333333,
             "#9c179e"
            ],
            [
             0.4444444444444444,
             "#bd3786"
            ],
            [
             0.5555555555555556,
             "#d8576b"
            ],
            [
             0.6666666666666666,
             "#ed7953"
            ],
            [
             0.7777777777777778,
             "#fb9f3a"
            ],
            [
             0.8888888888888888,
             "#fdca26"
            ],
            [
             1,
             "#f0f921"
            ]
           ]
          },
          "colorway": [
           "#636efa",
           "#EF553B",
           "#00cc96",
           "#ab63fa",
           "#FFA15A",
           "#19d3f3",
           "#FF6692",
           "#B6E880",
           "#FF97FF",
           "#FECB52"
          ],
          "font": {
           "color": "#2a3f5f"
          },
          "geo": {
           "bgcolor": "white",
           "lakecolor": "white",
           "landcolor": "#E5ECF6",
           "showlakes": true,
           "showland": true,
           "subunitcolor": "white"
          },
          "hoverlabel": {
           "align": "left"
          },
          "hovermode": "closest",
          "mapbox": {
           "style": "light"
          },
          "paper_bgcolor": "white",
          "plot_bgcolor": "#E5ECF6",
          "polar": {
           "angularaxis": {
            "gridcolor": "white",
            "linecolor": "white",
            "ticks": ""
           },
           "bgcolor": "#E5ECF6",
           "radialaxis": {
            "gridcolor": "white",
            "linecolor": "white",
            "ticks": ""
           }
          },
          "scene": {
           "xaxis": {
            "backgroundcolor": "#E5ECF6",
            "gridcolor": "white",
            "gridwidth": 2,
            "linecolor": "white",
            "showbackground": true,
            "ticks": "",
            "zerolinecolor": "white"
           },
           "yaxis": {
            "backgroundcolor": "#E5ECF6",
            "gridcolor": "white",
            "gridwidth": 2,
            "linecolor": "white",
            "showbackground": true,
            "ticks": "",
            "zerolinecolor": "white"
           },
           "zaxis": {
            "backgroundcolor": "#E5ECF6",
            "gridcolor": "white",
            "gridwidth": 2,
            "linecolor": "white",
            "showbackground": true,
            "ticks": "",
            "zerolinecolor": "white"
           }
          },
          "shapedefaults": {
           "line": {
            "color": "#2a3f5f"
           }
          },
          "ternary": {
           "aaxis": {
            "gridcolor": "white",
            "linecolor": "white",
            "ticks": ""
           },
           "baxis": {
            "gridcolor": "white",
            "linecolor": "white",
            "ticks": ""
           },
           "bgcolor": "#E5ECF6",
           "caxis": {
            "gridcolor": "white",
            "linecolor": "white",
            "ticks": ""
           }
          },
          "title": {
           "x": 0.05
          },
          "xaxis": {
           "automargin": true,
           "gridcolor": "white",
           "linecolor": "white",
           "ticks": "",
           "title": {
            "standoff": 15
           },
           "zerolinecolor": "white",
           "zerolinewidth": 2
          },
          "yaxis": {
           "automargin": true,
           "gridcolor": "white",
           "linecolor": "white",
           "ticks": "",
           "title": {
            "standoff": 15
           },
           "zerolinecolor": "white",
           "zerolinewidth": 2
          }
         }
        },
        "title": {
         "text": "vendo grafico"
        },
        "xaxis": {
         "anchor": "y",
         "domain": [
          0,
          1
         ]
        },
        "yaxis": {
         "anchor": "x",
         "domain": [
          0,
          1
         ]
        }
       }
      }
     },
     "metadata": {},
     "output_type": "display_data"
    }
   ],
   "source": [
    "criarGrafico(resultado_ = primeiro.df_resultado)"
   ]
  }
 ],
 "metadata": {
  "kernelspec": {
   "display_name": "base",
   "language": "python",
   "name": "python3"
  },
  "language_info": {
   "codemirror_mode": {
    "name": "ipython",
    "version": 3
   },
   "file_extension": ".py",
   "mimetype": "text/x-python",
   "name": "python",
   "nbconvert_exporter": "python",
   "pygments_lexer": "ipython3",
   "version": "3.10.9"
  },
  "orig_nbformat": 4
 },
 "nbformat": 4,
 "nbformat_minor": 2
}
